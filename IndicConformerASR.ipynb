{
 "cells": [
  {
   "cell_type": "code",
   "execution_count": 1,
   "metadata": {
    "colab": {
     "base_uri": "https://localhost:8080/",
     "height": 1000,
     "referenced_widgets": [
      "568d277ce4a94339af5094351c336800",
      "213843abcfc34de0a259ecb50debaa8d",
      "89269790220449acbabad5125cbe2c74",
      "b8300e5159e64157bcd9aa7b57f97702",
      "56089e67a33642538e8045d5bbfdbbed",
      "ed33f6d4ca124cba8a0eda20e9f1b952",
      "4e3a4d93b7354276b24db9ce9404f491",
      "7a24f876d052480283bd93e25e79335b",
      "d604d6dbad6c4056890cce51d755334b",
      "66afe24be3e444948fa573a05683e803",
      "c0ff584b52b545b58c18125ca3822d77"
     ]
    },
    "collapsed": true,
    "id": "27HGr7eob1Tr",
    "outputId": "4a833676-c906-4234-d192-db281aad9007"
   },
   "outputs": [
    {
     "name": "stderr",
     "output_type": "stream",
     "text": [
      "[NeMo W 2025-04-14 18:53:13 nemo_logging:349] /home/frozenwolf/miniconda3/envs/indiaai/lib/python3.10/site-packages/megatron/core/tensor_parallel/layers.py:220: FutureWarning: `torch.cuda.amp.custom_fwd(args...)` is deprecated. Please use `torch.amp.custom_fwd(args..., device_type='cuda')` instead.\n",
      "      def forward(ctx, input, weight, bias, gradient_accumulation_fusion,\n",
      "    \n",
      "[NeMo W 2025-04-14 18:53:13 nemo_logging:349] /home/frozenwolf/miniconda3/envs/indiaai/lib/python3.10/site-packages/megatron/core/tensor_parallel/layers.py:250: FutureWarning: `torch.cuda.amp.custom_bwd(args...)` is deprecated. Please use `torch.amp.custom_bwd(args..., device_type='cuda')` instead.\n",
      "      def backward(ctx, grad_output):\n",
      "    \n"
     ]
    },
    {
     "name": "stdout",
     "output_type": "stream",
     "text": [
      "[NeMo I 2025-04-14 18:53:28 mixins:198] _setup_tokenizer: detected an aggregate tokenizer\n",
      "[NeMo I 2025-04-14 18:53:28 mixins:335] Tokenizer SentencePieceTokenizer initialized with 256 tokens\n",
      "[NeMo I 2025-04-14 18:53:28 mixins:335] Tokenizer SentencePieceTokenizer initialized with 256 tokens\n",
      "[NeMo I 2025-04-14 18:53:28 mixins:335] Tokenizer SentencePieceTokenizer initialized with 256 tokens\n",
      "[NeMo I 2025-04-14 18:53:28 mixins:335] Tokenizer SentencePieceTokenizer initialized with 256 tokens\n",
      "[NeMo I 2025-04-14 18:53:28 mixins:335] Tokenizer SentencePieceTokenizer initialized with 256 tokens\n",
      "[NeMo I 2025-04-14 18:53:28 mixins:335] Tokenizer SentencePieceTokenizer initialized with 256 tokens\n",
      "[NeMo I 2025-04-14 18:53:28 mixins:335] Tokenizer SentencePieceTokenizer initialized with 256 tokens\n",
      "[NeMo I 2025-04-14 18:53:28 mixins:335] Tokenizer SentencePieceTokenizer initialized with 256 tokens\n",
      "[NeMo I 2025-04-14 18:53:28 mixins:335] Tokenizer SentencePieceTokenizer initialized with 256 tokens\n",
      "[NeMo I 2025-04-14 18:53:28 mixins:335] Tokenizer SentencePieceTokenizer initialized with 256 tokens\n",
      "[NeMo I 2025-04-14 18:53:28 mixins:335] Tokenizer SentencePieceTokenizer initialized with 256 tokens\n",
      "[NeMo I 2025-04-14 18:53:28 mixins:335] Tokenizer SentencePieceTokenizer initialized with 256 tokens\n",
      "[NeMo I 2025-04-14 18:53:28 mixins:335] Tokenizer SentencePieceTokenizer initialized with 256 tokens\n",
      "[NeMo I 2025-04-14 18:53:28 mixins:335] Tokenizer SentencePieceTokenizer initialized with 256 tokens\n",
      "[NeMo I 2025-04-14 18:53:28 mixins:335] Tokenizer SentencePieceTokenizer initialized with 256 tokens\n",
      "[NeMo I 2025-04-14 18:53:28 mixins:335] Tokenizer SentencePieceTokenizer initialized with 256 tokens\n",
      "[NeMo I 2025-04-14 18:53:28 mixins:335] Tokenizer SentencePieceTokenizer initialized with 256 tokens\n",
      "[NeMo I 2025-04-14 18:53:28 mixins:335] Tokenizer SentencePieceTokenizer initialized with 256 tokens\n",
      "[NeMo I 2025-04-14 18:53:28 mixins:335] Tokenizer SentencePieceTokenizer initialized with 256 tokens\n",
      "[NeMo I 2025-04-14 18:53:28 mixins:335] Tokenizer SentencePieceTokenizer initialized with 256 tokens\n",
      "[NeMo I 2025-04-14 18:53:28 mixins:335] Tokenizer SentencePieceTokenizer initialized with 256 tokens\n",
      "[NeMo I 2025-04-14 18:53:28 mixins:335] Tokenizer SentencePieceTokenizer initialized with 256 tokens\n",
      "[NeMo I 2025-04-14 18:53:28 multilingual_tokenizer:61] Aggregate vocab size: 5632\n"
     ]
    },
    {
     "name": "stderr",
     "output_type": "stream",
     "text": [
      "[NeMo W 2025-04-14 18:53:34 modelPT:165] If you intend to do training or fine-tuning, please call the ModelPT.setup_training_data() method and provide a valid configuration file to setup the train data loader.\n",
      "    Train config : \n",
      "    manifest_filepath:\n",
      "    - /nlsasfs/home/ai4bharat/ai4bharat-pr/speechteam/indicasr_v3/manifests/nemo/vistaar_v3/train/train_tamil.json\n",
      "    sample_rate: 16000\n",
      "    batch_size: 8\n",
      "    shuffle: false\n",
      "    num_workers: 16\n",
      "    pin_memory: true\n",
      "    max_duration: 30.0\n",
      "    min_duration: 0.2\n",
      "    is_tarred: false\n",
      "    tarred_audio_filepaths: null\n",
      "    shuffle_n: 2048\n",
      "    bucketing_strategy: synced_randomized\n",
      "    bucketing_batch_size: null\n",
      "    is_concat: true\n",
      "    concat_sampling_technique: temperature\n",
      "    concat_sampling_temperature: 1.5\n",
      "    return_language_id: true\n",
      "    \n",
      "[NeMo W 2025-04-14 18:53:34 modelPT:172] If you intend to do validation, please call the ModelPT.setup_validation_data() or ModelPT.setup_multiple_validation_data() method and provide a valid configuration file to setup the validation data loader(s). \n",
      "    Validation config : \n",
      "    manifest_filepath:\n",
      "    - /nlsasfs/home/ai4bharat/ai4bharat-pr/speechteam/indicasr_v3/manifests/nemo/vistaar_v3/valid_datasetwise/valid_tamil_indicvoices.json\n",
      "    sample_rate: 16000\n",
      "    batch_size: 16\n",
      "    shuffle: false\n",
      "    use_start_end_token: false\n",
      "    num_workers: 8\n",
      "    return_language_id: true\n",
      "    pin_memory: true\n",
      "    \n",
      "[NeMo W 2025-04-14 18:53:34 modelPT:178] Please call the ModelPT.setup_test_data() or ModelPT.setup_multiple_test_data() method and provide a valid configuration file to setup the test data loader(s).\n",
      "    Test config : \n",
      "    manifest_filepath: null\n",
      "    sample_rate: 16000\n",
      "    batch_size: 16\n",
      "    shuffle: false\n",
      "    use_start_end_token: false\n",
      "    num_workers: 8\n",
      "    pin_memory: true\n",
      "    \n"
     ]
    },
    {
     "name": "stdout",
     "output_type": "stream",
     "text": [
      "[NeMo I 2025-04-14 18:53:34 features:289] PADDING: 0\n"
     ]
    },
    {
     "name": "stderr",
     "output_type": "stream",
     "text": [
      "[NeMo W 2025-04-14 18:53:35 nemo_logging:349] /home/frozenwolf/miniconda3/envs/indiaai/lib/python3.10/site-packages/torch/nn/modules/rnn.py:123: UserWarning: dropout option adds dropout after all but last recurrent layer, so non-zero dropout expects num_layers greater than 1, but got dropout=0.2 and num_layers=1\n",
      "      warnings.warn(\n",
      "    \n"
     ]
    },
    {
     "name": "stdout",
     "output_type": "stream",
     "text": [
      "[NeMo I 2025-04-14 18:53:36 rnnt:1667] Vocab size for each language: 256\n",
      "[NeMo I 2025-04-14 18:53:36 rnnt_models:220] Using RNNT Loss : warprnnt_numba\n",
      "    Loss warprnnt_numba_kwargs: {'fastemit_lambda': 0.0, 'clamp': -1.0}\n",
      "[NeMo I 2025-04-14 18:53:36 rnnt_models:220] Using RNNT Loss : warprnnt_numba\n",
      "    Loss warprnnt_numba_kwargs: {'fastemit_lambda': 0.0, 'clamp': -1.0}\n",
      "[NeMo I 2025-04-14 18:53:38 rnnt_models:220] Using RNNT Loss : warprnnt_numba\n",
      "    Loss warprnnt_numba_kwargs: {'fastemit_lambda': 0.0, 'clamp': -1.0}\n",
      "[NeMo I 2025-04-14 18:53:38 hybrid_rnnt_ctc_bpe_models:105] Creating masks for multi-softmax layer.\n",
      "[NeMo I 2025-04-14 18:53:38 rnnt_models:220] Using RNNT Loss : warprnnt_numba\n",
      "    Loss warprnnt_numba_kwargs: {'fastemit_lambda': 0.0, 'clamp': -1.0}\n",
      "[NeMo I 2025-04-14 18:53:38 save_restore_connector:263] Model EncDecHybridRNNTCTCBPEModel was successfully restored from /home/frozenwolf/.cache/huggingface/hub/models--ai4bharat--indicconformer_stt_ta_hybrid_rnnt_large/snapshots/8c31aa8d04964b8fc87e4eaaee7916f7d2c024da/indicconformer_stt_ta_hybrid_rnnt_large.nemo.\n"
     ]
    }
   ],
   "source": [
    "import torch\n",
    "import NeMo.nemo.collections.asr as nemo_asr\n",
    "\n",
    "model = nemo_asr.models.ASRModel.from_pretrained(\"ai4bharat/indicconformer_stt_ta_hybrid_rnnt_large\")\n",
    "\n",
    "device = torch.device(\"cuda\" if torch.cuda.is_available() else \"cpu\")\n",
    "model.freeze() # inference mode\n",
    "model = model.to(device) # transfer model to device\n"
   ]
  },
  {
   "cell_type": "code",
   "execution_count": 2,
   "metadata": {},
   "outputs": [],
   "source": [
    "# for k,v in model._cfg.items():\n",
    "#     print(f\"{k}, {v}\")"
   ]
  },
  {
   "cell_type": "code",
   "execution_count": 3,
   "metadata": {},
   "outputs": [
    {
     "name": "stderr",
     "output_type": "stream",
     "text": [
      "[NeMo W 2025-04-14 18:53:39 nemo_logging:349] /tmp/ipykernel_97758/3906901807.py:3: FutureWarning: get_duration() keyword argument 'filename' has been renamed to 'path' in version 0.10.0.\n",
      "    \tThis alias will be removed in version 1.0.\n",
      "      duration = librosa.core.get_duration(filename=audio_path)\n",
      "    \n",
      "[NeMo W 2025-04-14 18:53:39 nemo_logging:349] /tmp/ipykernel_97758/3906901807.py:3: FutureWarning: PySoundFile failed. Trying audioread instead.\n",
      "    \tAudioread support is deprecated in librosa 0.10.0 and will be removed in version 1.0.\n",
      "      duration = librosa.core.get_duration(filename=audio_path)\n",
      "    \n"
     ]
    },
    {
     "data": {
      "text/plain": [
       "5.2"
      ]
     },
     "execution_count": 3,
     "metadata": {},
     "output_type": "execute_result"
    }
   ],
   "source": [
    "import librosa\n",
    "audio_path = \"train_audio/kb_data_clean_m4a/tamil/train/audio/844424930299412-129-f.m4a\"\n",
    "duration = librosa.core.get_duration(filename=audio_path)\n",
    "duration"
   ]
  },
  {
   "cell_type": "code",
   "execution_count": 4,
   "metadata": {},
   "outputs": [],
   "source": [
    "file = \"transcripts_n2w/kb_data_clean_m4a/tamil/train/transcription_n2w.txt\"\n",
    "trasncripts = [i.split('\\t')[1].lstrip().rstrip() for i in open(file, 'r', encoding='utf-8').readlines()]"
   ]
  },
  {
   "cell_type": "code",
   "execution_count": 5,
   "metadata": {},
   "outputs": [
    {
     "name": "stderr",
     "output_type": "stream",
     "text": [
      "[NeMo W 2025-04-14 18:53:39 nemo_logging:349] /home/frozenwolf/Desktop/indiai/NeMo/nemo/collections/asr/models/hybrid_rnnt_ctc_models.py:407: FutureWarning: get_duration() keyword argument 'filename' has been renamed to 'path' in version 0.10.0.\n",
      "    \tThis alias will be removed in version 1.0.\n",
      "      entry = {'audio_filepath': audio_file, 'duration': librosa.core.get_duration(filename=audio_file), 'text': transcript, 'lang': language_id}\n",
      "    \n",
      "[NeMo W 2025-04-14 18:53:39 nemo_logging:349] /home/frozenwolf/Desktop/indiai/NeMo/nemo/collections/asr/models/hybrid_rnnt_ctc_models.py:407: FutureWarning: PySoundFile failed. Trying audioread instead.\n",
      "    \tAudioread support is deprecated in librosa 0.10.0 and will be removed in version 1.0.\n",
      "      entry = {'audio_filepath': audio_file, 'duration': librosa.core.get_duration(filename=audio_file), 'text': transcript, 'lang': language_id}\n",
      "    \n",
      "[NeMo W 2025-04-14 18:53:39 nemo_logging:349] /home/frozenwolf/Desktop/indiai/NeMo/nemo/collections/asr/models/hybrid_rnnt_ctc_models.py:407: FutureWarning: get_duration() keyword argument 'filename' has been renamed to 'path' in version 0.10.0.\n",
      "    \tThis alias will be removed in version 1.0.\n",
      "      entry = {'audio_filepath': audio_file, 'duration': librosa.core.get_duration(filename=audio_file), 'text': transcript, 'lang': language_id}\n",
      "    \n",
      "[NeMo W 2025-04-14 18:53:39 nemo_logging:349] /home/frozenwolf/Desktop/indiai/NeMo/nemo/collections/asr/models/hybrid_rnnt_ctc_models.py:407: FutureWarning: PySoundFile failed. Trying audioread instead.\n",
      "    \tAudioread support is deprecated in librosa 0.10.0 and will be removed in version 1.0.\n",
      "      entry = {'audio_filepath': audio_file, 'duration': librosa.core.get_duration(filename=audio_file), 'text': transcript, 'lang': language_id}\n",
      "    \n"
     ]
    },
    {
     "name": "stdout",
     "output_type": "stream",
     "text": [
      "HI I AM TRANSPT INPUT PROCESSOR\n",
      "GENERATING MANIFEST\n",
      "HI DA NAMMA DL GETTING CALLED {'paths2audio_files': ['train_audio/kb_data_clean_m4a/tamil/train/audio/844424930299412-129-f.m4a', 'train_audio/kb_data_clean_m4a/tamil/train/audio/844424930299412-129-f.m4a'], 'batch_size': 1, 'temp_dir': '/tmp/tmp055nqkuj', 'num_workers': 0, 'channel_selector': None, 'text_field': 'text', 'lang_field': 'lang'}\n",
      "_setup_transcribe_dataloader called\n",
      "_setup_dataloader_from_config called\n"
     ]
    },
    {
     "name": "stderr",
     "output_type": "stream",
     "text": [
      "Transcribing:   0%|          | 0/2 [00:00<?, ?it/s][NeMo W 2025-04-14 18:53:40 nemo_logging:349] /home/frozenwolf/Desktop/indiai/NeMo/nemo/collections/asr/parts/preprocessing/features.py:417: FutureWarning: `torch.cuda.amp.autocast(args...)` is deprecated. Please use `torch.amp.autocast('cuda', args...)` instead.\n",
      "      with torch.cuda.amp.autocast(enabled=False):\n",
      "    \n"
     ]
    },
    {
     "name": "stdout",
     "output_type": "stream",
     "text": [
      "==== [tensor([[0.0000, 0.0000, 0.0000,  ..., 0.0022, 0.0021, 0.0023]],\n",
      "       device='cuda:0'), tensor([83200], device='cuda:0'), tensor([[190,   0]], device='cuda:0'), tensor([2], device='cuda:0')]\n"
     ]
    },
    {
     "name": "stderr",
     "output_type": "stream",
     "text": [
      "Transcribing:  50%|█████     | 1/2 [00:00<00:00,  1.30it/s][NeMo W 2025-04-14 18:53:40 nemo_logging:349] /home/frozenwolf/Desktop/indiai/NeMo/nemo/collections/asr/parts/preprocessing/features.py:417: FutureWarning: `torch.cuda.amp.autocast(args...)` is deprecated. Please use `torch.amp.autocast('cuda', args...)` instead.\n",
      "      with torch.cuda.amp.autocast(enabled=False):\n",
      "    \n"
     ]
    },
    {
     "name": "stdout",
     "output_type": "stream",
     "text": [
      "Its using my custom transcription code.... ([' சீமான் மீதான புகார் குறித்து நடிகை விஜயலட்சுமி வீட்டில் போலீஸ் விசாரணை'], [' சீமான் மீதான புகார் குறித்து நடிகை விஜயலட்சுமி வீட்டில் போலீஸ் விசாரணை'])\n",
      "==== [tensor([[0.0000, 0.0000, 0.0000,  ..., 0.0022, 0.0021, 0.0023]],\n",
      "       device='cuda:0'), tensor([83200], device='cuda:0'), tensor([[190,   0]], device='cuda:0'), tensor([2], device='cuda:0')]\n"
     ]
    },
    {
     "name": "stderr",
     "output_type": "stream",
     "text": [
      "Transcribing: 100%|██████████| 2/2 [00:01<00:00,  1.90it/s]"
     ]
    },
    {
     "name": "stdout",
     "output_type": "stream",
     "text": [
      "Its using my custom transcription code.... ([' சீமான் மீதான புகார் குறித்து நடிகை விஜயலட்சுமி வீட்டில் போலீஸ் விசாரணை'], [' சீமான் மீதான புகார் குறித்து நடிகை விஜயலட்சுமி வீட்டில் போலீஸ் விசாரணை'])\n",
      "([' சீமான் மீதான புகார் குறித்து நடிகை விஜயலட்சுமி வீட்டில் போலீஸ் விசாரணை', ' சீமான் மீதான புகார் குறித்து நடிகை விஜயலட்சுமி வீட்டில் போலீஸ் விசாரணை'], [' சீமான் மீதான புகார் குறித்து நடிகை விஜயலட்சுமி வீட்டில் போலீஸ் விசாரணை', ' சீமான் மீதான புகார் குறித்து நடிகை விஜயலட்சுமி வீட்டில் போலீஸ் விசாரணை'])\n"
     ]
    },
    {
     "name": "stderr",
     "output_type": "stream",
     "text": [
      "\n"
     ]
    }
   ],
   "source": [
    "model.cur_decoder = \"rnnt\"\n",
    "audio = ['train_audio/kb_data_clean_m4a/tamil/train/audio/844424930299412-129-f.m4a']*2\n",
    "ctc_text = model.transcribe(audio, batch_size=1,logprobs=True, language_id='ta')\n",
    "print(ctc_text)\n"
   ]
  },
  {
   "cell_type": "code",
   "execution_count": 6,
   "metadata": {},
   "outputs": [
    {
     "name": "stderr",
     "output_type": "stream",
     "text": [
      "[NeMo W 2025-04-14 18:53:40 nemo_logging:349] /home/frozenwolf/Desktop/indiai/NeMo/nemo/collections/asr/models/hybrid_rnnt_ctc_models.py:407: FutureWarning: get_duration() keyword argument 'filename' has been renamed to 'path' in version 0.10.0.\n",
      "    \tThis alias will be removed in version 1.0.\n",
      "      entry = {'audio_filepath': audio_file, 'duration': librosa.core.get_duration(filename=audio_file), 'text': transcript, 'lang': language_id}\n",
      "    \n",
      "[NeMo W 2025-04-14 18:53:40 nemo_logging:349] /home/frozenwolf/Desktop/indiai/NeMo/nemo/collections/asr/models/hybrid_rnnt_ctc_models.py:407: FutureWarning: PySoundFile failed. Trying audioread instead.\n",
      "    \tAudioread support is deprecated in librosa 0.10.0 and will be removed in version 1.0.\n",
      "      entry = {'audio_filepath': audio_file, 'duration': librosa.core.get_duration(filename=audio_file), 'text': transcript, 'lang': language_id}\n",
      "    \n",
      "[NeMo W 2025-04-14 18:53:40 nemo_logging:349] /home/frozenwolf/Desktop/indiai/NeMo/nemo/collections/asr/models/hybrid_rnnt_ctc_models.py:407: FutureWarning: get_duration() keyword argument 'filename' has been renamed to 'path' in version 0.10.0.\n",
      "    \tThis alias will be removed in version 1.0.\n",
      "      entry = {'audio_filepath': audio_file, 'duration': librosa.core.get_duration(filename=audio_file), 'text': transcript, 'lang': language_id}\n",
      "    \n",
      "[NeMo W 2025-04-14 18:53:40 nemo_logging:349] /home/frozenwolf/Desktop/indiai/NeMo/nemo/collections/asr/models/hybrid_rnnt_ctc_models.py:407: FutureWarning: PySoundFile failed. Trying audioread instead.\n",
      "    \tAudioread support is deprecated in librosa 0.10.0 and will be removed in version 1.0.\n",
      "      entry = {'audio_filepath': audio_file, 'duration': librosa.core.get_duration(filename=audio_file), 'text': transcript, 'lang': language_id}\n",
      "    \n"
     ]
    },
    {
     "name": "stdout",
     "output_type": "stream",
     "text": [
      "HI I AM TRANSPT INPUT PROCESSOR\n",
      "GENERATING MANIFEST\n",
      "HI DA NAMMA DL GETTING CALLED {'paths2audio_files': ['train_audio/kb_data_clean_m4a/tamil/train/audio/844424930299412-129-f.m4a', 'train_audio/kb_data_clean_m4a/tamil/train/audio/844424930299412-129-f.m4a'], 'batch_size': 4, 'temp_dir': '/tmp/tmpztw3h_ss', 'num_workers': 0, 'channel_selector': None, 'text_field': 'text', 'lang_field': 'lang'}\n",
      "_setup_transcribe_dataloader called\n",
      "_setup_dataloader_from_config called\n"
     ]
    }
   ],
   "source": [
    "import tempfile\n",
    "\n",
    "from NeMo.nemo.collections.asr.models.hybrid_rnnt_ctc_models import TranscribeConfig, InternalTranscribeConfig\n",
    "\n",
    "transcribe_cfg = TranscribeConfig(\n",
    "                batch_size=4,\n",
    "                return_hypotheses=False,\n",
    "                num_workers=0,\n",
    "                channel_selector=None,\n",
    "                augmentor=None,\n",
    "                verbose=True,\n",
    "                logprobs=True,\n",
    "                language_id='ta',\n",
    "            )\n",
    "\n",
    "transcribe_cfg._internal = InternalTranscribeConfig()\n",
    "\n",
    "model._transcribe_on_begin(audio, transcribe_cfg)\n",
    "\n",
    "with tempfile.TemporaryDirectory() as tmpdir:\n",
    "    transcribe_cfg._internal.temp_dir = tmpdir          \n",
    "    dataloader = model._transcribe_input_processing(audio, transcribe_cfg, trasncripts[:2])"
   ]
  },
  {
   "cell_type": "code",
   "execution_count": null,
   "metadata": {},
   "outputs": [],
   "source": []
  },
  {
   "cell_type": "code",
   "execution_count": 7,
   "metadata": {},
   "outputs": [],
   "source": [
    "batch  = next(iter(dataloader))"
   ]
  },
  {
   "cell_type": "code",
   "execution_count": 8,
   "metadata": {},
   "outputs": [
    {
     "data": {
      "text/plain": [
       "True"
      ]
     },
     "execution_count": 8,
     "metadata": {},
     "output_type": "execute_result"
    }
   ],
   "source": [
    "model.joint.fuse_loss_wer"
   ]
  },
  {
   "cell_type": "code",
   "execution_count": 9,
   "metadata": {},
   "outputs": [
    {
     "ename": "ZeroDivisionError",
     "evalue": "division by zero",
     "output_type": "error",
     "traceback": [
      "\u001b[0;31m---------------------------------------------------------------------------\u001b[0m",
      "\u001b[0;31mZeroDivisionError\u001b[0m                         Traceback (most recent call last)",
      "Cell \u001b[0;32mIn[9], line 1\u001b[0m\n\u001b[0;32m----> 1\u001b[0m \u001b[38;5;241;43m0\u001b[39;49m\u001b[38;5;241;43m/\u001b[39;49m\u001b[38;5;241;43m0\u001b[39;49m\n",
      "\u001b[0;31mZeroDivisionError\u001b[0m: division by zero"
     ]
    }
   ],
   "source": [
    "0/0"
   ]
  },
  {
   "cell_type": "code",
   "execution_count": 11,
   "metadata": {},
   "outputs": [
    {
     "data": {
      "text/plain": [
       "[tensor([[0.0000, 0.0000, 0.0000,  ..., 0.0022, 0.0021, 0.0023],\n",
       "         [0.0000, 0.0000, 0.0000,  ..., 0.0022, 0.0021, 0.0023]]),\n",
       " tensor([83200, 83200]),\n",
       " tensor([[170, 198, 191,  12,  34, 115,  51, 194,  37, 148,  40,  21,  16,  48,\n",
       "          191,  12,  34,  91,  49, 201, 214, 207,  94, 120,  11,  40, 151,  36,\n",
       "          195, 205, 214, 191, 121,  14,  84,  23,  25, 134, 201, 133, 134,   1,\n",
       "           33,  55,  11, 191, 210,  23,  39,   6],\n",
       "         [ 59, 202,  92,  11,  42, 201,   3,  86,  41, 195, 199,  35, 159, 163,\n",
       "           98,  29,  24,  53,  92,  85, 206,   0,   0,   0,   0,   0,   0,   0,\n",
       "            0,   0,   0,   0,   0,   0,   0,   0,   0,   0,   0,   0,   0,   0,\n",
       "            0,   0,   0,   0,   0,   0,   0,   0]]),\n",
       " tensor([50, 21])]"
      ]
     },
     "execution_count": 11,
     "metadata": {},
     "output_type": "execute_result"
    }
   ],
   "source": [
    "batch"
   ]
  },
  {
   "cell_type": "code",
   "execution_count": 12,
   "metadata": {},
   "outputs": [],
   "source": [
    "def move_to_device(batch, device):\n",
    "    \"\"\"\n",
    "    Recursively move all tensors in `batch` to `device`.\n",
    "    \"\"\"\n",
    "    if isinstance(batch, torch.Tensor):\n",
    "        return batch.to(device)\n",
    "    elif isinstance(batch, (list, tuple)):\n",
    "        return [move_to_device(x, device) for x in batch]\n",
    "    elif isinstance(batch, dict):\n",
    "        return {k: move_to_device(v, device) for k, v in batch.items()}\n",
    "    else:\n",
    "        raise TypeError(f\"Unsupported type: {type(batch)}\")\n",
    "    "
   ]
  },
  {
   "cell_type": "code",
   "execution_count": 13,
   "metadata": {},
   "outputs": [
    {
     "name": "stderr",
     "output_type": "stream",
     "text": [
      "[NeMo W 2025-04-14 18:54:06 nemo_logging:349] /home/frozenwolf/Desktop/indiai/NeMo/nemo/collections/asr/parts/preprocessing/features.py:417: FutureWarning: `torch.cuda.amp.autocast(args...)` is deprecated. Please use `torch.amp.autocast('cuda', args...)` instead.\n",
      "      with torch.cuda.amp.autocast(enabled=False):\n",
      "    \n"
     ]
    },
    {
     "name": "stderr",
     "output_type": "stream",
     "text": [
      "[NeMo W 2025-04-14 18:54:07 nemo_logging:349] /home/frozenwolf/miniconda3/envs/indiaai/lib/python3.10/site-packages/numba/cuda/dispatcher.py:538: NumbaPerformanceWarning: \u001b[1mGrid size 2 will likely result in GPU under-utilization due to low occupancy.\u001b[0m\n",
      "      warn(NumbaPerformanceWarning(msg))\n",
      "    \n",
      "[NeMo W 2025-04-14 18:54:08 nemo_logging:349] /home/frozenwolf/miniconda3/envs/indiaai/lib/python3.10/site-packages/numba/cuda/dispatcher.py:538: NumbaPerformanceWarning: \u001b[1mGrid size 1 will likely result in GPU under-utilization due to low occupancy.\u001b[0m\n",
      "      warn(NumbaPerformanceWarning(msg))\n",
      "    \n"
     ]
    },
    {
     "data": {
      "text/plain": [
       "{'loss': tensor(233.4939, device='cuda:0')}"
      ]
     },
     "execution_count": 13,
     "metadata": {},
     "output_type": "execute_result"
    }
   ],
   "source": [
    "batch = move_to_device(batch, transcribe_cfg._internal.device)\n",
    "model.train()\n",
    "model.training_step(batch, 1)"
   ]
  },
  {
   "cell_type": "code",
   "execution_count": 17,
   "metadata": {},
   "outputs": [
    {
     "name": "stderr",
     "output_type": "stream",
     "text": [
      "[NeMo W 2025-04-14 18:56:49 nemo_logging:349] /home/frozenwolf/Desktop/indiai/NeMo/nemo/collections/asr/parts/preprocessing/features.py:417: FutureWarning: `torch.cuda.amp.autocast(args...)` is deprecated. Please use `torch.amp.autocast('cuda', args...)` instead.\n",
      "      with torch.cuda.amp.autocast(enabled=False):\n",
      "    \n"
     ]
    }
   ],
   "source": [
    "output = model.forward(input_signal=batch[0], input_signal_length=batch[1])"
   ]
  },
  {
   "cell_type": "code",
   "execution_count": 20,
   "metadata": {},
   "outputs": [
    {
     "data": {
      "text/plain": [
       "([' சீமான் மீதான புகார் குறித்து நடிகை விஜயலட்சுமி வீட்டில் போலீஸ் விசாரணை',\n",
       "  ' தீமான் மீது அனுசரி குறித்து நடிகை விஜயலட்சுமி வீட்டில் போலீஸ் விசாரணை'],\n",
       " [' சீமான் மீதான புகார் குறித்து நடிகை விஜயலட்சுமி வீட்டில் போலீஸ் விசாரணை',\n",
       "  ' தீமான் மீது அனுசரி குறித்து நடிகை விஜயலட்சுமி வீட்டில் போலீஸ் விசாரணை'])"
      ]
     },
     "execution_count": 20,
     "metadata": {},
     "output_type": "execute_result"
    }
   ],
   "source": [
    "model._transcribe_output_processing(dict(encoded=output[0], encoded_len=output[1]), transcribe_cfg)"
   ]
  },
  {
   "cell_type": "code",
   "execution_count": null,
   "metadata": {},
   "outputs": [
    {
     "data": {
      "text/plain": [
       "([torch.Size([2, 83200]),\n",
       "  torch.Size([2]),\n",
       "  torch.Size([2, 50]),\n",
       "  torch.Size([2])],\n",
       " [tensor([[0.0000, 0.0000, 0.0000,  ..., 0.0022, 0.0021, 0.0023],\n",
       "          [0.0000, 0.0000, 0.0000,  ..., 0.0022, 0.0021, 0.0023]]),\n",
       "  tensor([83200, 83200]),\n",
       "  tensor([[170, 198, 191,  12,  34, 115,  51, 194,  37, 148,  40,  21,  16,  48,\n",
       "           191,  12,  34,  91,  49, 201, 214, 207,  94, 120,  11,  40, 151,  36,\n",
       "           195, 205, 214, 191, 121,  14,  84,  23,  25, 134, 201, 133, 134,   1,\n",
       "            33,  55,  11, 191, 210,  23,  39,   6],\n",
       "          [ 59, 202,  92,  11,  42, 201,   3,  86,  41, 195, 199,  35, 159, 163,\n",
       "            98,  29,  24,  53,  92,  85, 206,   0,   0,   0,   0,   0,   0,   0,\n",
       "             0,   0,   0,   0,   0,   0,   0,   0,   0,   0,   0,   0,   0,   0,\n",
       "             0,   0,   0,   0,   0,   0,   0,   0]]),\n",
       "  tensor([50, 21])])"
      ]
     },
     "execution_count": 12,
     "metadata": {},
     "output_type": "execute_result"
    }
   ],
   "source": [
    "[i.shape for i in batch], batch"
   ]
  },
  {
   "cell_type": "code",
   "execution_count": null,
   "metadata": {},
   "outputs": [
    {
     "ename": "ValueError",
     "evalue": "`transcribe_cfg._internal` must be of an object of type InternalTranscribeConfig or its subclass",
     "output_type": "error",
     "traceback": [
      "\u001b[0;31m---------------------------------------------------------------------------\u001b[0m",
      "\u001b[0;31mValueError\u001b[0m                                Traceback (most recent call last)",
      "Cell \u001b[0;32mIn[4], line 152\u001b[0m\n\u001b[1;32m    148\u001b[0m     \u001b[38;5;28;01mreturn\u001b[39;00m results\n\u001b[1;32m    150\u001b[0m model\u001b[38;5;241m.\u001b[39mcur_decoder \u001b[38;5;241m=\u001b[39m \u001b[38;5;124m\"\u001b[39m\u001b[38;5;124mctc\u001b[39m\u001b[38;5;124m\"\u001b[39m \u001b[38;5;66;03m## rnnt\u001b[39;00m\n\u001b[0;32m--> 152\u001b[0m ctc_text \u001b[38;5;241m=\u001b[39m \u001b[43mtranscribe\u001b[49m\u001b[43m(\u001b[49m\u001b[43mmodel\u001b[49m\u001b[43m,\u001b[49m\u001b[43m \u001b[49m\u001b[43m[\u001b[49m\u001b[38;5;124;43m'\u001b[39;49m\u001b[38;5;124;43mtrain_audio/kb_data_clean_m4a/tamil/train/audio/844424930299412-129-f.m4a\u001b[39;49m\u001b[38;5;124;43m'\u001b[39;49m\u001b[43m]\u001b[49m\u001b[43m,\u001b[49m\u001b[43m \u001b[49m\u001b[43mbatch_size\u001b[49m\u001b[38;5;241;43m=\u001b[39;49m\u001b[38;5;241;43m1\u001b[39;49m\u001b[43m,\u001b[49m\u001b[43mlogprobs\u001b[49m\u001b[38;5;241;43m=\u001b[39;49m\u001b[38;5;28;43;01mFalse\u001b[39;49;00m\u001b[43m,\u001b[49m\u001b[43m \u001b[49m\u001b[43mlanguage_id\u001b[49m\u001b[38;5;241;43m=\u001b[39;49m\u001b[38;5;124;43m'\u001b[39;49m\u001b[38;5;124;43mta\u001b[39;49m\u001b[38;5;124;43m'\u001b[39;49m\u001b[43m)\u001b[49m\n\u001b[1;32m    153\u001b[0m \u001b[38;5;28mprint\u001b[39m(ctc_text)\n",
      "File \u001b[0;32m~/miniconda3/envs/indiaai/lib/python3.10/site-packages/torch/utils/_contextlib.py:116\u001b[0m, in \u001b[0;36mcontext_decorator.<locals>.decorate_context\u001b[0;34m(*args, **kwargs)\u001b[0m\n\u001b[1;32m    113\u001b[0m \u001b[38;5;129m@functools\u001b[39m\u001b[38;5;241m.\u001b[39mwraps(func)\n\u001b[1;32m    114\u001b[0m \u001b[38;5;28;01mdef\u001b[39;00m\u001b[38;5;250m \u001b[39m\u001b[38;5;21mdecorate_context\u001b[39m(\u001b[38;5;241m*\u001b[39margs, \u001b[38;5;241m*\u001b[39m\u001b[38;5;241m*\u001b[39mkwargs):\n\u001b[1;32m    115\u001b[0m     \u001b[38;5;28;01mwith\u001b[39;00m ctx_factory():\n\u001b[0;32m--> 116\u001b[0m         \u001b[38;5;28;01mreturn\u001b[39;00m \u001b[43mfunc\u001b[49m\u001b[43m(\u001b[49m\u001b[38;5;241;43m*\u001b[39;49m\u001b[43margs\u001b[49m\u001b[43m,\u001b[49m\u001b[43m \u001b[49m\u001b[38;5;241;43m*\u001b[39;49m\u001b[38;5;241;43m*\u001b[39;49m\u001b[43mkwargs\u001b[49m\u001b[43m)\u001b[49m\n",
      "Cell \u001b[0;32mIn[4], line 98\u001b[0m, in \u001b[0;36mtranscribe\u001b[0;34m(model, audio, batch_size, return_hypotheses, num_workers, verbose, logprobs, language_id, channel_selector, augmentor, override_config, **config_kwargs)\u001b[0m\n\u001b[1;32m     96\u001b[0m \u001b[38;5;28;01mtry\u001b[39;00m:\n\u001b[1;32m     97\u001b[0m     generator \u001b[38;5;241m=\u001b[39m model\u001b[38;5;241m.\u001b[39mtranscribe_generator(audio, override_config\u001b[38;5;241m=\u001b[39mtranscribe_cfg)\n\u001b[0;32m---> 98\u001b[0m     \u001b[38;5;28;01mfor\u001b[39;00m processed_outputs \u001b[38;5;129;01min\u001b[39;00m generator:\n\u001b[1;32m     99\u001b[0m         \u001b[38;5;66;03m# Store results\u001b[39;00m\n\u001b[1;32m    100\u001b[0m         \u001b[38;5;28;01mif\u001b[39;00m \u001b[38;5;28misinstance\u001b[39m(processed_outputs, \u001b[38;5;28mlist\u001b[39m):\n\u001b[1;32m    101\u001b[0m             \u001b[38;5;66;03m# Create a results of the same type as each element in processed_outputs\u001b[39;00m\n\u001b[1;32m    102\u001b[0m             \u001b[38;5;28;01mif\u001b[39;00m results \u001b[38;5;129;01mis\u001b[39;00m \u001b[38;5;28;01mNone\u001b[39;00m:\n",
      "File \u001b[0;32m~/Desktop/indiai/NeMo/nemo/collections/asr/parts/mixins/transcription.py:365\u001b[0m, in \u001b[0;36mTranscriptionMixin.transcribe_generator\u001b[0;34m(self, audio, override_config)\u001b[0m\n\u001b[1;32m    362\u001b[0m \u001b[38;5;28;01melse\u001b[39;00m:\n\u001b[1;32m    363\u001b[0m     \u001b[38;5;66;03m# Check if internal config is valid\u001b[39;00m\n\u001b[1;32m    364\u001b[0m     \u001b[38;5;28;01mif\u001b[39;00m \u001b[38;5;129;01mnot\u001b[39;00m \u001b[38;5;28misinstance\u001b[39m(override_config\u001b[38;5;241m.\u001b[39m_internal, InternalTranscribeConfig):\n\u001b[0;32m--> 365\u001b[0m         \u001b[38;5;28;01mraise\u001b[39;00m \u001b[38;5;167;01mValueError\u001b[39;00m(\n\u001b[1;32m    366\u001b[0m             \u001b[38;5;124m\"\u001b[39m\u001b[38;5;124m`transcribe_cfg._internal` must be of an object of type InternalTranscribeConfig or \u001b[39m\u001b[38;5;124m\"\u001b[39m\n\u001b[1;32m    367\u001b[0m             \u001b[38;5;124m\"\u001b[39m\u001b[38;5;124mits subclass\u001b[39m\u001b[38;5;124m\"\u001b[39m\n\u001b[1;32m    368\u001b[0m         )\n\u001b[1;32m    370\u001b[0m transcribe_cfg \u001b[38;5;241m=\u001b[39m override_config\n\u001b[1;32m    372\u001b[0m \u001b[38;5;28;01mtry\u001b[39;00m:\n\u001b[1;32m    373\u001b[0m     \u001b[38;5;66;03m# Initialize and assert the transcription environment\u001b[39;00m\n",
      "\u001b[0;31mValueError\u001b[0m: `transcribe_cfg._internal` must be of an object of type InternalTranscribeConfig or its subclass"
     ]
    }
   ],
   "source": [
    "import json\n",
    "import os\n",
    "import tempfile\n",
    "from abc import ABC, abstractmethod\n",
    "from collections.abc import Iterable\n",
    "from dataclasses import dataclass\n",
    "from functools import partial\n",
    "from typing import Any, Dict, List, Optional, Tuple, Union\n",
    "\n",
    "import numpy as np\n",
    "import torch\n",
    "from omegaconf import DictConfig\n",
    "from torch.utils.data import DataLoader, Dataset\n",
    "from tqdm import tqdm\n",
    "\n",
    "from nemo.collections.asr.parts.preprocessing.perturb import process_augmentations\n",
    "from nemo.collections.asr.parts.preprocessing.segment import AudioSegment\n",
    "from nemo.collections.asr.parts.utils.audio_utils import ChannelSelectorType\n",
    "from nemo.utils import logging, logging_mode\n",
    "\n",
    "TranscriptionReturnType = Union[List[str], List['Hypothesis'], Tuple[List[str]], Tuple[List['Hypothesis']]]\n",
    "GenericTranscriptionType = Union[List[Any], List[List[Any]], Tuple[Any], Tuple[List[Any]], Dict[str, List[Any]]]\n",
    "\n",
    "@dataclass\n",
    "class InternalTranscribeConfig:\n",
    "    # Internal values\n",
    "    device: Optional[torch.device] = None\n",
    "    dtype: Optional[torch.dtype] = None\n",
    "    training_mode: bool = False\n",
    "    logging_level: Optional[Any] = None\n",
    "\n",
    "    # Preprocessor values\n",
    "    dither_value: float = 0.0\n",
    "    pad_to_value: int = 0\n",
    "\n",
    "    # Scratch space\n",
    "    temp_dir: Optional[str] = None\n",
    "\n",
    "@dataclass\n",
    "class TranscribeConfig:\n",
    "    batch_size: int = 4\n",
    "    return_hypotheses: bool = False\n",
    "    num_workers: Optional[int] = None\n",
    "    channel_selector: ChannelSelectorType = None\n",
    "    augmentor: Optional[DictConfig] = None\n",
    "    verbose: bool = True\n",
    "    logprobs: bool = False\n",
    "    language_id: str = None\n",
    "\n",
    "    # Utility\n",
    "    partial_hypothesis: Optional[List[Any]] = None\n",
    "\n",
    "    _internal: Optional[InternalTranscribeConfig] = None\n",
    "    \n",
    "def get_value_from_transcription_config(trcfg, key, default):\n",
    "    if hasattr(trcfg, key):\n",
    "        return getattr(trcfg, key)\n",
    "    else:\n",
    "        logging.debug(\n",
    "            f\"Using default value of {default} for {key} because it is not present in the transcription config {trcfg}.\"\n",
    "        )\n",
    "        return default\n",
    "\n",
    "@torch.no_grad()\n",
    "def transcribe(\n",
    "    self,\n",
    "    audio,\n",
    "    batch_size: int = 4,\n",
    "    return_hypotheses: bool = False,\n",
    "    num_workers: int = 0,\n",
    "    verbose: bool = True,\n",
    "    logprobs: bool = False,\n",
    "    language_id: str = None,\n",
    "    channel_selector  = None,\n",
    "    augmentor = None,\n",
    "    override_config = None,\n",
    "    **config_kwargs,\n",
    "):\n",
    "\n",
    "    transcribe_cfg = TranscribeConfig(\n",
    "            batch_size=batch_size,\n",
    "            return_hypotheses=return_hypotheses,\n",
    "            num_workers=num_workers,\n",
    "            channel_selector=channel_selector,\n",
    "            augmentor=augmentor,\n",
    "            verbose=verbose,\n",
    "            logprobs=logprobs,\n",
    "            language_id=language_id,\n",
    "            **config_kwargs,\n",
    "        )\n",
    "   \n",
    "    transcribe_cfg._internal = InternalTranscribeConfig()\n",
    "\n",
    "    # Hold the results here\n",
    "    results = None  # type: GenericTranscriptionType\n",
    "    try:\n",
    "        generator = self.transcribe_generator(audio, override_config=transcribe_cfg)\n",
    "        for processed_outputs in generator:\n",
    "            # Store results\n",
    "            if isinstance(processed_outputs, list):\n",
    "                # Create a results of the same type as each element in processed_outputs\n",
    "                if results is None:\n",
    "                    results = []\n",
    "                    # if list of inner list of results, copy structure\n",
    "                    if isinstance(processed_outputs[0], list):\n",
    "                        for _ in processed_outputs:\n",
    "                            results.append([])\n",
    "                # If nested list structure\n",
    "                if isinstance(processed_outputs[0], list):\n",
    "                    for i, processed_output in enumerate(processed_outputs):\n",
    "                        results[i].extend(processed_output)\n",
    "                else:\n",
    "                    # If flat list structure\n",
    "                    results.extend(processed_outputs)\n",
    "            elif isinstance(processed_outputs, dict):\n",
    "                # Create a results of the same type as each element in processed_outputs\n",
    "                if results is None:\n",
    "                    results = processed_outputs\n",
    "                else:\n",
    "                    for k, v in processed_outputs.items():\n",
    "                        results[k].extend(v)\n",
    "            elif isinstance(processed_outputs, tuple):\n",
    "                # Create a results of the same type as each element in processed_outputs\n",
    "                if results is None:\n",
    "                    results = tuple([[] for _ in processed_outputs])\n",
    "                # If nested list structure\n",
    "                if isinstance(processed_outputs[0], list):\n",
    "                    for i, processed_output in enumerate(processed_outputs):\n",
    "                        results[i].extend(processed_output)\n",
    "                else:\n",
    "                    # If flat list structure\n",
    "                    if len(processed_outputs) != len(results):\n",
    "                        raise RuntimeError(\n",
    "                            f\"The number of elements in the result ({len(results)}) does not \"\n",
    "                            f\"match the results of the current batch ({len(processed_outputs)}).\"\n",
    "                        )\n",
    "                    for i, processed_output in enumerate(processed_outputs):\n",
    "                        results[i].append(processed_output)\n",
    "            else:\n",
    "                raise NotImplementedError(\n",
    "                    \"Given output result for transcription is not supported. \"\n",
    "                    \"Please return a list of results, list of list of results, \"\n",
    "                    \"a dict of list of results, or \"\n",
    "                    \"a tuple of list of results.\"\n",
    "                )\n",
    "    except StopIteration:\n",
    "        pass\n",
    "    return results\n",
    "\n",
    "model.cur_decoder = \"ctc\" ## rnnt\n",
    "\n",
    "ctc_text = transcribe(model, ['train_audio/kb_data_clean_m4a/tamil/train/audio/844424930299412-129-f.m4a'], batch_size=1,logprobs=False, language_id='ta')\n",
    "print(ctc_text)\n"
   ]
  },
  {
   "cell_type": "code",
   "execution_count": null,
   "metadata": {},
   "outputs": [],
   "source": [
    "\n",
    "class TranscriptionTensorDataset(Dataset):\n",
    "    def __init__(self, config: Dict[str, Any]):\n",
    "        super().__init__()\n",
    "        self.audio_tensors = config['audio_tensors']\n",
    "        self.channel_selector = config['channel_selector']\n",
    "        self.augmentor_cfg = config.get('augmentor', None)\n",
    "        self.sample_rate = config['sample_rate']\n",
    "\n",
    "        if self.augmentor_cfg is not None:\n",
    "            self.augmentor = process_augmentations(self.augmentor_cfg, global_rank=0, world_size=1)\n",
    "        else:\n",
    "            self.augmentor = None\n",
    "\n",
    "        self.length = len(self.audio_tensors)\n",
    "\n",
    "    def __getitem__(self, index):\n",
    "        if index >= self.length:\n",
    "            raise IndexError(f\"Index {index} out of range for dataset of size {self.length}\")\n",
    "\n",
    "        return self.get_item(index)\n",
    "\n",
    "    def __len__(self):\n",
    "        return self.length\n",
    "\n",
    "    def get_item(self, index):\n",
    "        samples = self.audio_tensors[index]\n",
    "\n",
    "        if self.augmentor is not None:\n",
    "            logging.warning(\n",
    "                \"Audio Augmentations are being applied during inference by moving the tensor onto CPU. \"\n",
    "                \"This is highly inefficient and therefore not recommended.\",\n",
    "                mode=logging_mode.ONCE,\n",
    "            )\n",
    "\n",
    "            original_dtype = samples.dtype\n",
    "            samples = samples.to(device='cpu', dtype=torch.float32).numpy()\n",
    "            segment = AudioSegment(\n",
    "                samples, self.sample_rate, target_sr=self.sample_rate, channel_selector=self.channel_selector\n",
    "            )\n",
    "            samples = self.augmentor.perturb(segment)\n",
    "            samples = torch.tensor(samples.samples, dtype=original_dtype)\n",
    "\n",
    "        # Calculate seq length\n",
    "        seq_len = torch.tensor(samples.shape[0], dtype=torch.long)\n",
    "\n",
    "        # Dummy text tokens\n",
    "        text_tokens = torch.tensor([0], dtype=torch.long)\n",
    "        text_tokens_len = torch.tensor(1, dtype=torch.long)\n",
    "\n",
    "        return (samples, seq_len, text_tokens, text_tokens_len)\n",
    "\n",
    "def transcribe_generator(self, audio, override_config: Optional[TranscribeConfig]):\n",
    "\n",
    "    override_config = TranscribeConfig()\n",
    "    override_config._internal = InternalTranscribeConfig()\n",
    "    transcribe_cfg = override_config\n",
    "    try:\n",
    "        # Initialize and assert the transcription environment\n",
    "        self.transcribe_on_begin(audio, transcribe_cfg)\n",
    "        # Work in tmp directory - will store manifest file there\n",
    "        with tempfile.TemporaryDirectory() as tmpdir:\n",
    "            transcribe_cfg._internal.temp_dir = tmpdir\n",
    "            dataloader = self._transcribe_input_processing(audio, transcribe_cfg)\n",
    "            if hasattr(transcribe_cfg, 'verbose'):\n",
    "                verbose = transcribe_cfg.verbose\n",
    "            else:\n",
    "                verbose = True\n",
    "            for test_batch in tqdm(dataloader, desc=\"Transcribing\", disable=not verbose):\n",
    "                # Move batch to device\n",
    "                test_batch = test_batch.to(transcribe_cfg._internal.device)\n",
    "                # Run forward pass\n",
    "                model_outputs = self._transcribe_forward(test_batch, transcribe_cfg)\n",
    "                processed_outputs = self._transcribe_output_processing(model_outputs, transcribe_cfg)\n",
    "                # clear up memory\n",
    "                del test_batch, model_outputs\n",
    "                # Yield results if generator\n",
    "                yield processed_outputs\n",
    "                del processed_outputs\n",
    "    finally:\n",
    "        # set mode back to its original value\n",
    "        self._transcribe_on_end(transcribe_cfg)\n",
    "        \n",
    "def _transcribe_input_manifest_processing(\n",
    "    self, audio_files: List[str], temp_dir: str, trcfg: TranscribeConfig\n",
    ") -> Dict[str, Any]:\n",
    "    \"\"\"\n",
    "    Internal function to process the input audio filepaths and return a config dict for the dataloader.\n",
    "    Specializes to ASR models which can have Encoder-Decoder-Joint architectures.\n",
    "    Args:\n",
    "        audio_files: A list of string filepaths for audio files.\n",
    "        temp_dir: A temporary directory to store intermediate files.\n",
    "        trcfg: The transcription config dataclass. Subclasses can change this to a different dataclass if needed.\n",
    "    Returns:\n",
    "        A config dict that is used to setup the dataloader for transcription.\n",
    "    \"\"\"\n",
    "    with open(os.path.join(temp_dir, 'manifest.json'), 'w', encoding='utf-8') as fp:\n",
    "        for audio_file in audio_files:\n",
    "            if isinstance(audio_file, str):\n",
    "                entry = {'audio_filepath': audio_file, 'duration': 100000, 'text': ''}\n",
    "                fp.write(json.dumps(entry) + '\\n')\n",
    "            elif isinstance(audio_file, dict):\n",
    "                fp.write(json.dumps(audio_file) + '\\n')\n",
    "            else:\n",
    "                raise ValueError(\n",
    "                    f\"Input `audio` is of type {type(audio_file)}. \"\n",
    "                    \"Only `str` (path to audio file) or `dict` are supported as input.\"\n",
    "                )\n",
    "    ds_config = {\n",
    "        'paths2audio_files': audio_files,\n",
    "        'batch_size': get_value_from_transcription_config(trcfg, 'batch_size', 4),\n",
    "        'temp_dir': temp_dir,\n",
    "        'num_workers': get_value_from_transcription_config(trcfg, 'num_workers', 0),\n",
    "        'channel_selector': get_value_from_transcription_config(trcfg, 'channel_selector', None),\n",
    "        'text_field': get_value_from_transcription_config(trcfg, 'text_field', 'text'),\n",
    "        'lang_field': get_value_from_transcription_config(trcfg, 'lang_field', 'lang'),\n",
    "    }\n",
    "    augmentor = get_value_from_transcription_config(trcfg, 'augmentor', None)\n",
    "    if augmentor:\n",
    "        ds_config['augmentor'] = augmentor\n",
    "    return ds_config\n",
    "    \n",
    "\"\"\"\n",
    "Transcribe Execution Flow\n",
    "\"\"\"\n",
    "def _transcribe_on_begin(self, audio, trcfg: TranscribeConfig):\n",
    "    \"\"\"\n",
    "    Internal function to setup the model for transcription. Perform all setup and pre-checks here.\n",
    "    Args:\n",
    "        audio: Of type `GenericTranscriptionType`\n",
    "        trcfg: The transcription config dataclass. Subclasses can change this to a different dataclass if needed.\n",
    "    \"\"\"\n",
    "    if audio is None:\n",
    "        return {}\n",
    "    if isinstance(audio, (str, np.ndarray, torch.Tensor)):\n",
    "        audio = [audio]\n",
    "    if isinstance(audio, list) and len(audio) == 0:\n",
    "        return {}\n",
    "    _params = next(self.parameters())\n",
    "    if trcfg._internal.device is None:\n",
    "        trcfg._internal.device = _params.device\n",
    "    if trcfg._internal.dtype is None:\n",
    "        trcfg._internal.dtype = _params.dtype\n",
    "    # Set num_workers\n",
    "    num_workers = get_value_from_transcription_config(trcfg, 'num_workers', default=0)\n",
    "    if num_workers is None:\n",
    "        _batch_size = get_value_from_transcription_config(trcfg, 'batch_size', default=4)\n",
    "        num_workers = min(_batch_size, os.cpu_count() - 1)\n",
    "    # Assign num_workers if available as key in trcfg\n",
    "    if hasattr(trcfg, 'num_workers'):\n",
    "        trcfg.num_workers = num_workers\n",
    "    # Model's mode and device\n",
    "    trcfg._internal.training_mode = self.training\n",
    "    # Switch model to evaluation mode\n",
    "    if hasattr(self, 'preprocessor'):\n",
    "        if hasattr(self.preprocessor, 'featurizer') and hasattr(self.preprocessor.featurizer, 'dither'):\n",
    "            trcfg._internal.dither_value = self.preprocessor.featurizer.dither\n",
    "            self.preprocessor.featurizer.dither = 0.0\n",
    "        if hasattr(self.preprocessor, 'featurizer') and hasattr(self.preprocessor.featurizer, 'pad_to'):\n",
    "            trcfg._internal.pad_to_value = self.preprocessor.featurizer.pad_to\n",
    "            self.preprocessor.featurizer.pad_to = 0\n",
    "    # Switch model to evaluation mode\n",
    "    self.eval()\n",
    "    # Disable logging\n",
    "    trcfg._internal.logging_level = logging.get_verbosity()\n",
    "    logging.set_verbosity(logging.WARNING)\n",
    "    \n",
    "def _transcribe_input_processing(self, audio, trcfg: TranscribeConfig):\n",
    "    \"\"\"\n",
    "    Internal function to process the input audio data and return a DataLoader. This function is called by\n",
    "    `transcribe()` and `transcribe_generator()` to setup the input data for transcription.\n",
    "    Args:\n",
    "        audio: Of type `GenericTranscriptionType`\n",
    "        trcfg: The transcription config dataclass. Subclasses can change this to a different dataclass if needed.\n",
    "    Returns:\n",
    "        A DataLoader object that is used to iterate over the input audio data.\n",
    "    \"\"\"\n",
    "    if isinstance(audio, (list, tuple)):\n",
    "        if len(audio) == 0:\n",
    "            raise ValueError(\"Input `audio` is empty\")\n",
    "    else:\n",
    "        audio = [audio]\n",
    "    # Check if audio is a list of strings (filepaths or manifests)\n",
    "    if isinstance(audio[0], str):\n",
    "        audio_files = list(audio)\n",
    "        tmp_dir = trcfg._internal.temp_dir\n",
    "        ds_config = self._transcribe_input_manifest_processing(audio_files, tmp_dir, trcfg)\n",
    "        temp_dataloader = self._setup_transcribe_dataloader(ds_config)\n",
    "        return temp_dataloader\n",
    "    # Check if audio is a list of numpy or torch tensors\n",
    "    elif isinstance(audio[0], (np.ndarray, torch.Tensor)):\n",
    "        audio_tensors = list(audio)\n",
    "        # Convert numpy tensors to torch tensors\n",
    "        if any([isinstance(_tensor, np.ndarray) for _tensor in audio_tensors]):\n",
    "            audio_tensors = [\n",
    "                torch.as_tensor(audio_tensor) if isinstance(audio_tensor, np.ndarray) else audio_tensor\n",
    "                for audio_tensor in audio_tensors\n",
    "            ]\n",
    "        tmp_dir = trcfg._internal.temp_dir\n",
    "        ds_config = self._transcribe_input_tensor_processing(audio_tensors, tmp_dir, trcfg)\n",
    "        temp_dataloader = self._setup_transcribe_tensor_dataloader(ds_config, trcfg)\n",
    "        return temp_dataloader\n",
    "    else:\n",
    "        raise ValueError(\n",
    "            f\"Input `audio` is of type {type(audio[0])}. \"\n",
    "            \"Only `str` (path to audio file), `np.ndarray`, and `torch.Tensor` \"\n",
    "            \"are supported as input.\"\n",
    "        )\n",
    "def _transcribe_input_tensor_processing(\n",
    "    self, audio_tensors: List[Union[np.ndarray, torch.Tensor]], temp_dir: str, trcfg: TranscribeConfig\n",
    "):\n",
    "    \"\"\"\n",
    "    Internal function to process the input audio tensors and return a config dict for the dataloader.\n",
    "    Args:\n",
    "        audio_tensors: A list of numpy or torch tensors. The user must ensure that they satisfy the correct\n",
    "            sample rate and channel format.\n",
    "        temp_dir: A temporary directory to store intermediate files.\n",
    "        trcfg: The transcription config dataclass. Subclasses can change this to a different dataclass if needed.\n",
    "    Returns:\n",
    "        A config dict that is used to setup the dataloader for transcription.\n",
    "    \"\"\"\n",
    "    # Check if sample rate is set\n",
    "    sample_rate = None\n",
    "    if hasattr(self, 'cfg') and 'sample_rate' in self.cfg:\n",
    "        sample_rate = self.cfg.sample_rate\n",
    "    elif hasattr(self, 'sample_rate'):\n",
    "        sample_rate = self.sample_rate\n",
    "    if sample_rate is None:\n",
    "        raise RuntimeError(\n",
    "            \"Provided `audio` data contains numpy or torch tensors, however the class \"\n",
    "            \"does not have `sample_rate` attribute. Please set `sample_rate` attribute to the model explicitly.\"\n",
    "        )\n",
    "    ds_config = {\n",
    "        'audio_tensors': audio_tensors,\n",
    "        'batch_size': get_value_from_transcription_config(trcfg, 'batch_size', 4),\n",
    "        'temp_dir': temp_dir,\n",
    "        'num_workers': get_value_from_transcription_config(trcfg, 'num_workers', 0),\n",
    "        'channel_selector': get_value_from_transcription_config(trcfg, 'channel_selector', None),\n",
    "        'sample_rate': sample_rate,\n",
    "    }\n",
    "    augmentor = get_value_from_transcription_config(trcfg, 'augmentor', None)\n",
    "    if augmentor:\n",
    "        ds_config['augmentor'] = augmentor\n",
    "    return ds_config\n",
    "\n",
    "\n",
    "def _setup_transcribe_dataloader(self, config: Dict) -> 'torch.utils.data.DataLoader':\n",
    "    \"\"\"\n",
    "    Setup function for a temporary data loader which wraps the provided audio file.\n",
    "    Args:\n",
    "        config: A python dictionary which contains the following keys:\n",
    "        paths2audio_files: (a list) of paths to audio files. The files should be relatively short fragments. \\\n",
    "            Recommended length per file is between 5 and 25 seconds.\n",
    "        batch_size: (int) batch size to use during inference. \\\n",
    "            Bigger will result in better throughput performance but would use more memory.\n",
    "        temp_dir: (str) A temporary directory where the audio manifest is temporarily\n",
    "            stored.\n",
    "    Returns:\n",
    "        A pytorch DataLoader for the given audio file(s).\n",
    "    \"\"\"\n",
    "    if 'manifest_filepath' in config:\n",
    "        manifest_filepath = config['manifest_filepath']\n",
    "        batch_size = config['batch_size']\n",
    "    else:\n",
    "        manifest_filepath = os.path.join(config['temp_dir'], 'manifest.json')\n",
    "        batch_size = min(config['batch_size'], len(config['paths2audio_files']))\n",
    "    dl_config = {\n",
    "        'manifest_filepath': manifest_filepath,\n",
    "        'sample_rate': self.preprocessor._sample_rate,\n",
    "        'labels': self.joint.vocabulary,\n",
    "        'batch_size': batch_size,\n",
    "        'trim_silence': False,\n",
    "        'shuffle': False,\n",
    "        'num_workers': config.get('num_workers', min(batch_size, os.cpu_count() - 1)),\n",
    "        'pin_memory': True,\n",
    "    }\n",
    "    if config.get(\"augmentor\"):\n",
    "        dl_config['augmentor'] = config.get(\"augmentor\")\n",
    "    temporary_datalayer = self._setup_dataloader_from_config(config=DictConfig(dl_config))\n",
    "    return temporary_datalayer\n",
    "    \n",
    "@abstractmethod\n",
    "def _transcribe_forward(self, batch: Any, trcfg: TranscribeConfig):\n",
    "    \"\"\"\n",
    "    Internal function to perform the model's custom forward pass to return outputs that are processed by\n",
    "    `_transcribe_output_processing()`.\n",
    "    This function is called by `transcribe()` and `transcribe_generator()` to perform the model's forward pass.\n",
    "    Args:\n",
    "        batch: A batch of input data from the data loader that is used to perform the model's forward pass.\n",
    "        trcfg: The transcription config dataclass. Subclasses can change this to a different dataclass if needed.\n",
    "    Returns:\n",
    "        The model's outputs that are processed by `_transcribe_output_processing()`.\n",
    "    \"\"\"\n",
    "        # CTC Path\n",
    "        \n",
    "    if self.cur_decoder == \"rnnt\":\n",
    "        encoded, encoded_len = self.forward(input_signal=batch[0], input_signal_length=batch[1])\n",
    "        output = dict(encoded=encoded, encoded_len=encoded_len)\n",
    "        return output\n",
    "\n",
    "        \n",
    "    encoded, encoded_len = model(input_signal=batch[0], input_signal_length=batch[1])\n",
    "    if \"multisoftmax\" not in model.cfg.decoder:\n",
    "        language_ids = None\n",
    "    else:\n",
    "        language_ids = [trcfg.language_id] * len(batch[0])\n",
    "    logits = model.ctc_decoder(encoder_output=encoded, language_ids=language_ids)\n",
    "    output = dict(logits=logits, encoded_len=encoded_len, language_ids=language_ids)\n",
    "    \n",
    "    del encoded\n",
    "    return output\n",
    "    \n",
    "def _transcribe_output_processing(\n",
    "    self, outputs, trcfg: TranscribeConfig\n",
    ") -> Tuple[List['Hypothesis'], List['Hypothesis']]:\n",
    "    if self.cur_decoder == \"rnnt\":\n",
    "        encoded = outputs.pop('encoded')\n",
    "        encoded_len = outputs.pop('encoded_len')\n",
    "        \n",
    "        if \"multisoftmax\" not in self.cfg.decoder:\n",
    "            language_ids = None\n",
    "        else:\n",
    "            language_ids = [trcfg.language_id] * len(encoded)\n",
    "\n",
    "        best_hyp, all_hyp = self.decoding.rnnt_decoder_predictions_tensor(\n",
    "            encoded,\n",
    "            encoded_len,\n",
    "            return_hypotheses=trcfg.return_hypotheses,\n",
    "            partial_hypotheses=trcfg.partial_hypothesis,\n",
    "            lang_ids=language_ids,\n",
    "        )\n",
    "\n",
    "        # cleanup memory\n",
    "        del encoded, encoded_len\n",
    "\n",
    "        hypotheses = []\n",
    "        all_hypotheses = []\n",
    "\n",
    "        hypotheses += best_hyp\n",
    "        if all_hyp is not None:\n",
    "            all_hypotheses += all_hyp\n",
    "        else:\n",
    "            all_hypotheses += best_hyp\n",
    "\n",
    "        return (hypotheses, all_hypotheses)\n",
    "    \n",
    "    # CTC Path\n",
    "    logits = outputs.pop('logits')\n",
    "    encoded_len = outputs.pop('encoded_len')\n",
    "    language_ids = outputs.pop('language_ids')\n",
    "    best_hyp, all_hyp = self.ctc_decoding.ctc_decoder_predictions_tensor(\n",
    "        logits, encoded_len, return_hypotheses=trcfg.return_hypotheses, lang_ids=language_ids\n",
    "    )\n",
    "    logits = logits.cpu()\n",
    "    if trcfg.return_hypotheses:\n",
    "        # dump log probs per file\n",
    "        for idx in range(logits.shape[0]):\n",
    "            best_hyp[idx].y_sequence = logits[idx][: encoded_len[idx]]\n",
    "            if best_hyp[idx].alignments is None:\n",
    "                best_hyp[idx].alignments = best_hyp[idx].y_sequence\n",
    "    # DEPRECATED?\n",
    "    if trcfg.logprobs:\n",
    "        logits_list = []\n",
    "        for logit, elen in zip(logits, encoded_len):\n",
    "            logits_list.append(logit[:elen])\n",
    "        return logits_list\n",
    "    del logits, encoded_len\n",
    "    hypotheses = []\n",
    "    all_hypotheses = []\n",
    "    hypotheses += best_hyp\n",
    "    if all_hyp is not None:\n",
    "        all_hypotheses += all_hyp\n",
    "    else:\n",
    "        all_hypotheses += best_hyp\n",
    "    return (hypotheses, all_hypotheses)\n",
    "    \n",
    "def _transcribe_on_end(self, trcfg: TranscribeConfig):\n",
    "    \"\"\"\n",
    "    Internal function to teardown the model after transcription. Perform all teardown and post-checks here.\n",
    "    Args:\n",
    "        trcfg: The transcription config dataclass. Subclasses can change this to a different dataclass if needed.\n",
    "    \"\"\"\n",
    "    # set mode back to its original value\n",
    "    self.train(mode=trcfg._internal.training_mode)\n",
    "    if hasattr(self, 'preprocessor'):\n",
    "        if hasattr(self.preprocessor, 'featurizer') and hasattr(self.preprocessor.featurizer, 'dither'):\n",
    "            self.preprocessor.featurizer.dither = trcfg._internal.dither_value\n",
    "        if hasattr(self.preprocessor, 'featurizer') and hasattr(self.preprocessor.featurizer, 'pad_to'):\n",
    "            self.preprocessor.featurizer.pad_to = trcfg._internal.pad_to_value\n",
    "    if trcfg._internal.logging_level is not None:\n",
    "        logging.set_verbosity(trcfg._internal.logging_level)\n",
    "        \n",
    "def _setup_transcribe_tensor_dataloader(self, config: Dict, trcfg: TranscribeConfig) -> DataLoader:\n",
    "    \"\"\"\n",
    "    Internal function to setup the dataloader for transcription. This function is called by\n",
    "    `transcribe()` and `transcribe_generator()` to setup the input data for transcription.\n",
    "    Args:\n",
    "        config: A config dict that is used to setup the dataloader for transcription. It can be generated either\n",
    "            by `_transcribe_input_manifest_processing()` or `_transcribe_input_tensor_processing()`.\n",
    "        trcfg: The transcription config dataclass. Subclasses can change this to a different dataclass if needed.\n",
    "    Returns:\n",
    "        A DataLoader object that is used to iterate over the input audio data.\n",
    "    \"\"\"\n",
    "    dataset = TranscriptionTensorDataset(config)\n",
    "    # Import collate function here to avoid circular imports\n",
    "    from nemo.collections.asr.data.audio_to_text import _speech_collate_fn\n",
    "    # Calculate pad id\n",
    "    if hasattr(self, 'tokenizer') and hasattr(self.tokenizer, 'pad_id'):\n",
    "        pad_id = self.tokenizer.pad_id\n",
    "    elif hasattr(self, 'transcribe_pad_id'):\n",
    "        logging.info(\"Pad id is explicitly set to `model.transcribe_pad_id` = {}\".format(self.transcribe_pad_id))\n",
    "        pad_id = self.transcribe_pad_id\n",
    "    else:\n",
    "        logging.info(\n",
    "            \"Pad id is being set to 0 because it could not be resolved from the tokenizer. \"\n",
    "            \"This can happen for various reasons, especially for character based models. \"\n",
    "            \"If pad id is incorrect, please provide the pad id explicitly by setting \"\n",
    "            \"`model.transcribe_pad_id`.\"\n",
    "        )\n",
    "        pad_id = 0\n",
    "    return DataLoader(\n",
    "        dataset=dataset,\n",
    "        shuffle=False,\n",
    "        batch_size=config['batch_size'],\n",
    "        num_workers=config['num_workers'],\n",
    "        pin_memory=False,\n",
    "        drop_last=False,\n",
    "        collate_fn=partial(_speech_collate_fn, pad_id=pad_id),)"
   ]
  },
  {
   "cell_type": "code",
   "execution_count": null,
   "metadata": {},
   "outputs": [
    {
     "data": {
      "text/plain": [
       "0"
      ]
     },
     "execution_count": 10,
     "metadata": {},
     "output_type": "execute_result"
    }
   ],
   "source": [
    "\n",
    "\n",
    "config = model.to_config_dict()\n",
    "### print config, line by line\n",
    "for key in config.keys():\n",
    "\tprint(f\"{key}: {config[key]}\")"
   ]
  },
  {
   "cell_type": "code",
   "execution_count": null,
   "metadata": {},
   "outputs": [
    {
     "name": "stdout",
     "output_type": "stream",
     "text": [
      "manifest_filepath ['/nlsasfs/home/ai4bharat/ai4bharat-pr/speechteam/indicasr_v3/manifests/nemo/vistaar_v3/train/train_tamil.json']\n",
      "sample_rate 16000\n",
      "batch_size 8\n",
      "shuffle False\n",
      "num_workers 16\n",
      "pin_memory True\n",
      "max_duration 30.0\n",
      "min_duration 0.2\n",
      "is_tarred False\n",
      "tarred_audio_filepaths None\n",
      "shuffle_n 2048\n",
      "bucketing_strategy synced_randomized\n",
      "bucketing_batch_size None\n",
      "is_concat True\n",
      "concat_sampling_technique temperature\n",
      "concat_sampling_temperature 1.5\n",
      "return_language_id True\n"
     ]
    }
   ],
   "source": [
    "for i in config.train_ds:\n",
    "\tprint(i, config.train_ds[i])"
   ]
  },
  {
   "cell_type": "code",
   "execution_count": null,
   "metadata": {},
   "outputs": [],
   "source": [
    "# import os\n",
    "# path = '/home/frozenwolf/Desktop/indiai/train_audio/kb_data_clean_m4a/tamil/train/audio/'\n",
    "\n",
    "# os.listdir(path)"
   ]
  },
  {
   "cell_type": "code",
   "execution_count": null,
   "metadata": {},
   "outputs": [
    {
     "name": "stdout",
     "output_type": "stream",
     "text": [
      "train_audio/kb_data_clean_m4a/tamil/train/audio/844424930299412-129-f.m4a\n"
     ]
    }
   ],
   "source": [
    "!ls train_audio/kb_data_clean_m4a/tamil/train/audio/844424930299412-129-f.m4a"
   ]
  },
  {
   "cell_type": "code",
   "execution_count": null,
   "metadata": {},
   "outputs": [],
   "source": [
    "!cp train_audio/kb_data_clean_m4a/tamil/train/audio/844424930299412-129-f.m4a ."
   ]
  },
  {
   "cell_type": "code",
   "execution_count": null,
   "metadata": {
    "colab": {
     "base_uri": "https://localhost:8080/",
     "height": 297
    },
    "id": "2XiO4v8m8-QV",
    "outputId": "26c28895-b529-4831-95f5-af24ce857111"
   },
   "outputs": [
    {
     "data": {
      "text/html": [
       "\n",
       "                <audio  controls=\"controls\" >\n",
       "                    <source src=\"data:audio/mp4;base64,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\" type=\"audio/mp4\" />\n",
       "                    Your browser does not support the audio element.\n",
       "                </audio>\n",
       "              "
      ],
      "text/plain": [
       "<IPython.lib.display.Audio object>"
      ]
     },
     "execution_count": 10,
     "metadata": {},
     "output_type": "execute_result"
    }
   ],
   "source": [
    "IPython.display.Audio('train_audio/kb_data_clean_m4a/tamil/train/audio/844424930299412-129-f.m4a')"
   ]
  },
  {
   "cell_type": "markdown",
   "metadata": {
    "id": "Xzs8rpeTeVvh"
   },
   "source": [
    "#Inference using CTC-Decoder"
   ]
  },
  {
   "cell_type": "code",
   "execution_count": null,
   "metadata": {
    "id": "VR8EcY-acai-"
   },
   "outputs": [
    {
     "name": "stderr",
     "output_type": "stream",
     "text": [
      "Transcribing:   0%|          | 0/1 [00:00<?, ?it/s][NeMo W 2025-03-11 00:38:40 nemo_logging:349] /home/frozenwolf/Desktop/indiai/NeMo/nemo/collections/asr/parts/preprocessing/features.py:417: FutureWarning: `torch.cuda.amp.autocast(args...)` is deprecated. Please use `torch.amp.autocast('cuda', args...)` instead.\n",
      "      with torch.cuda.amp.autocast(enabled=False):\n",
      "    \n",
      "Transcribing: 100%|██████████| 1/1 [00:01<00:00,  1.17s/it]"
     ]
    },
    {
     "name": "stdout",
     "output_type": "stream",
     "text": [
      "[' சீமான் மீதான புகார் குறித்து நடிகை விஜயலட்சுமி வீட்டில் போலீஸ் விசாரணை']\n"
     ]
    },
    {
     "name": "stderr",
     "output_type": "stream",
     "text": [
      "\n"
     ]
    }
   ],
   "source": [
    "model.cur_decoder = \"ctc\"\n",
    "ctc_text = model.transcribe(['train_audio/kb_data_clean_m4a/tamil/train/audio/844424930299412-129-f.m4a'], batch_size=1,logprobs=False, language_id='ta')[0]\n",
    "print(ctc_text)\n",
    "\n",
    "\n"
   ]
  },
  {
   "cell_type": "markdown",
   "metadata": {
    "id": "ODvMdvaihcbk"
   },
   "source": [
    "Inference using RNN-T Decoder"
   ]
  },
  {
   "cell_type": "code",
   "execution_count": null,
   "metadata": {
    "id": "JG-fQoowhseQ"
   },
   "outputs": [
    {
     "name": "stdout",
     "output_type": "stream",
     "text": [
      "[' சீமான் மீதான புகார் குறித்து நடிகை விஜயலட்சுமி வீட்டில் போலீஸ் விசாரணை']\n"
     ]
    }
   ],
   "source": [
    "print(ctc_text)"
   ]
  },
  {
   "cell_type": "code",
   "execution_count": null,
   "metadata": {
    "id": "JwJD9hlJck_e"
   },
   "outputs": [
    {
     "name": "stderr",
     "output_type": "stream",
     "text": [
      "Transcribing:   0%|          | 0/1 [00:00<?, ?it/s]"
     ]
    },
    {
     "name": "stderr",
     "output_type": "stream",
     "text": [
      "[NeMo W 2025-03-11 00:38:45 nemo_logging:349] /home/frozenwolf/Desktop/indiai/NeMo/nemo/collections/asr/parts/preprocessing/features.py:417: FutureWarning: `torch.cuda.amp.autocast(args...)` is deprecated. Please use `torch.amp.autocast('cuda', args...)` instead.\n",
      "      with torch.cuda.amp.autocast(enabled=False):\n",
      "    \n",
      "Transcribing: 100%|██████████| 1/1 [00:00<00:00,  2.48it/s]\n"
     ]
    }
   ],
   "source": [
    "model.cur_decoder = \"rnnt\"\n",
    "rnnt_text = model.transcribe(['train_audio/kb_data_clean_m4a/tamil/train/audio/844424930299412-129-f.m4a'], batch_size=1, language_id='ta')[0]"
   ]
  },
  {
   "cell_type": "code",
   "execution_count": null,
   "metadata": {},
   "outputs": [
    {
     "data": {
      "text/plain": [
       "nemo.collections.asr.models.hybrid_rnnt_ctc_bpe_models.EncDecHybridRNNTCTCBPEModel"
      ]
     },
     "execution_count": 6,
     "metadata": {},
     "output_type": "execute_result"
    }
   ],
   "source": [
    "type(model)"
   ]
  },
  {
   "cell_type": "code",
   "execution_count": null,
   "metadata": {},
   "outputs": [
    {
     "name": "stdout",
     "output_type": "stream",
     "text": [
      "    @torch.no_grad()\n",
      "    def transcribe(\n",
      "        self,\n",
      "        audio: List[str],\n",
      "        batch_size: int = 4,\n",
      "        return_hypotheses: bool = False,\n",
      "        partial_hypothesis: Optional[List['Hypothesis']] = None,\n",
      "        num_workers: int = 0,\n",
      "        channel_selector: Optional[ChannelSelectorType] = None,\n",
      "        augmentor: DictConfig = None,\n",
      "        verbose: bool = True,\n",
      "        override_config: Optional[TranscribeConfig] = None,\n",
      "        language_id: str = None, #CTEMO\n",
      "        logprobs: bool = False,\n",
      "    ) -> TranscriptionReturnType:\n",
      "        \"\"\"\n",
      "        Uses greedy decoding to transcribe audio files. Use this method for debugging and prototyping.\n",
      "\n",
      "        Args:\n",
      "\n",
      "            audio: (a list) of paths to audio files. \\\n",
      "                Recommended length per file is between 5 and 25 seconds. \\\n",
      "                But it is possible to pass a few hours long file if enough GPU memory is available.\n",
      "            batch_size: (int) batch size to use during inference. \\\n",
      "                Bigger will result in better throughput performance but would use more memory.\n",
      "            return_hypotheses: (bool) Either return hypotheses or text\n",
      "                With hypotheses can do some postprocessing like getting timestamp or rescoring\n",
      "            num_workers: (int) number of workers for DataLoader\n",
      "            channel_selector (int | Iterable[int] | str): select a single channel or a subset of channels from multi-channel audio. If set to `'average'`, it performs averaging across channels. Disabled if set to `None`. Defaults to `None`. Uses zero-based indexing.\n",
      "            augmentor: (DictConfig): Augment audio samples during transcription if augmentor is applied.\n",
      "            verbose: (bool) whether to display tqdm progress bar\n",
      "            logprobs: (bool) whether to return ctc logits insted of hypotheses\n",
      "\n",
      "        Returns:\n",
      "            Returns a tuple of 2 items -\n",
      "            * A list of greedy transcript texts / Hypothesis\n",
      "            * An optional list of beam search transcript texts / Hypothesis / NBestHypothesis.\n",
      "        \"\"\"\n",
      "        if self.cur_decoder not in [\"ctc\", \"rnnt\"]:\n",
      "            raise ValueError(\n",
      "                f\"{self.cur_decoder} is not supported for cur_decoder. Supported values are ['ctc', 'rnnt']\"\n",
      "            )\n",
      "\n",
      "        return super().transcribe(\n",
      "            audio=audio,\n",
      "            batch_size=batch_size,\n",
      "            return_hypotheses=return_hypotheses,\n",
      "            partial_hypothesis=partial_hypothesis,\n",
      "            num_workers=num_workers,\n",
      "            channel_selector=channel_selector,\n",
      "            augmentor=augmentor,\n",
      "            verbose=verbose,\n",
      "            override_config=override_config,\n",
      "            language_id = language_id, #CTEMO\n",
      "            logprobs=logprobs\n",
      "        )\n",
      "\n",
      "/home/frozenwolf/Desktop/indiai/NeMo/nemo/collections/asr/models/asr_model.py\n"
     ]
    }
   ],
   "source": [
    "### print the .py file for .transcribe\n",
    "import inspect\n",
    "print(inspect.getsource(model.transcribe))\n",
    "\n",
    "### print the path of that .py:\n",
    "print(inspect.getfile(nemo_asr.models.ASRModel))"
   ]
  },
  {
   "cell_type": "code",
   "execution_count": null,
   "metadata": {
    "id": "lRWFx1VQc0dX"
   },
   "outputs": [
    {
     "name": "stdout",
     "output_type": "stream",
     "text": [
      "[' சீமான் மீதான புகார் குறித்து நடிகை விஜயலட்சுமி வீட்டில் போலீஸ் விசாரணை']\n"
     ]
    }
   ],
   "source": [
    "print(rnnt_text)"
   ]
  },
  {
   "cell_type": "code",
   "execution_count": null,
   "metadata": {
    "id": "EdObQzA-VUKa"
   },
   "outputs": [
    {
     "data": {
      "text/plain": [
       "EncDecHybridRNNTCTCBPEModel(\n",
       "  (preprocessor): AudioToMelSpectrogramPreprocessor(\n",
       "    (featurizer): FilterbankFeatures()\n",
       "  )\n",
       "  (encoder): ConformerEncoder(\n",
       "    (pre_encode): ConvSubsampling(\n",
       "      (out): Linear(in_features=10240, out_features=512, bias=True)\n",
       "      (conv): Sequential(\n",
       "        (0): Conv2d(1, 512, kernel_size=(3, 3), stride=(2, 2), padding=(1, 1))\n",
       "        (1): ReLU(inplace=True)\n",
       "        (2): Conv2d(512, 512, kernel_size=(3, 3), stride=(2, 2), padding=(1, 1))\n",
       "        (3): ReLU(inplace=True)\n",
       "      )\n",
       "    )\n",
       "    (pos_enc): RelPositionalEncoding(\n",
       "      (dropout): Dropout(p=0.1, inplace=False)\n",
       "    )\n",
       "    (layers): ModuleList(\n",
       "      (0-16): 17 x ConformerLayer(\n",
       "        (norm_feed_forward1): LayerNorm((512,), eps=1e-05, elementwise_affine=True)\n",
       "        (feed_forward1): ConformerFeedForward(\n",
       "          (linear1): Linear(in_features=512, out_features=2048, bias=True)\n",
       "          (activation): Swish()\n",
       "          (dropout): Dropout(p=0.1, inplace=False)\n",
       "          (linear2): Linear(in_features=2048, out_features=512, bias=True)\n",
       "        )\n",
       "        (norm_conv): LayerNorm((512,), eps=1e-05, elementwise_affine=True)\n",
       "        (conv): ConformerConvolution(\n",
       "          (pointwise_conv1): Conv1d(512, 1024, kernel_size=(1,), stride=(1,))\n",
       "          (depthwise_conv): CausalConv1D(512, 512, kernel_size=(31,), stride=(1,), groups=512)\n",
       "          (batch_norm): BatchNorm1d(512, eps=1e-05, momentum=0.1, affine=True, track_running_stats=True)\n",
       "          (activation): Swish()\n",
       "          (pointwise_conv2): Conv1d(512, 512, kernel_size=(1,), stride=(1,))\n",
       "        )\n",
       "        (norm_self_att): LayerNorm((512,), eps=1e-05, elementwise_affine=True)\n",
       "        (self_attn): RelPositionMultiHeadAttention(\n",
       "          (linear_q): Linear(in_features=512, out_features=512, bias=True)\n",
       "          (linear_k): Linear(in_features=512, out_features=512, bias=True)\n",
       "          (linear_v): Linear(in_features=512, out_features=512, bias=True)\n",
       "          (linear_out): Linear(in_features=512, out_features=512, bias=True)\n",
       "          (dropout): Dropout(p=0.1, inplace=False)\n",
       "          (linear_pos): Linear(in_features=512, out_features=512, bias=False)\n",
       "        )\n",
       "        (norm_feed_forward2): LayerNorm((512,), eps=1e-05, elementwise_affine=True)\n",
       "        (feed_forward2): ConformerFeedForward(\n",
       "          (linear1): Linear(in_features=512, out_features=2048, bias=True)\n",
       "          (activation): Swish()\n",
       "          (dropout): Dropout(p=0.1, inplace=False)\n",
       "          (linear2): Linear(in_features=2048, out_features=512, bias=True)\n",
       "        )\n",
       "        (dropout): Dropout(p=0.1, inplace=False)\n",
       "        (norm_out): LayerNorm((512,), eps=1e-05, elementwise_affine=True)\n",
       "      )\n",
       "    )\n",
       "  )\n",
       "  (decoder): RNNTDecoder(\n",
       "    (prediction): ModuleDict(\n",
       "      (embed): Embedding(5633, 640, padding_idx=5632)\n",
       "      (dec_rnn): LSTMDropout(\n",
       "        (lstm): LSTM(640, 640, dropout=0.2)\n",
       "        (dropout): Dropout(p=0.2, inplace=False)\n",
       "      )\n",
       "    )\n",
       "  )\n",
       "  (joint): RNNTJoint(\n",
       "    (pred): Linear(in_features=640, out_features=640, bias=True)\n",
       "    (enc): Linear(in_features=512, out_features=640, bias=True)\n",
       "    (joint_net): Sequential(\n",
       "      (0): ReLU(inplace=True)\n",
       "      (1): Dropout(p=0.2, inplace=False)\n",
       "      (2): ModuleDict(\n",
       "        (as): Linear(in_features=640, out_features=257, bias=True)\n",
       "        (bn): Linear(in_features=640, out_features=257, bias=True)\n",
       "        (brx): Linear(in_features=640, out_features=257, bias=True)\n",
       "        (doi): Linear(in_features=640, out_features=257, bias=True)\n",
       "        (kok): Linear(in_features=640, out_features=257, bias=True)\n",
       "        (gu): Linear(in_features=640, out_features=257, bias=True)\n",
       "        (hi): Linear(in_features=640, out_features=257, bias=True)\n",
       "        (kn): Linear(in_features=640, out_features=257, bias=True)\n",
       "        (ks): Linear(in_features=640, out_features=257, bias=True)\n",
       "        (mai): Linear(in_features=640, out_features=257, bias=True)\n",
       "        (ml): Linear(in_features=640, out_features=257, bias=True)\n",
       "        (mr): Linear(in_features=640, out_features=257, bias=True)\n",
       "        (mni): Linear(in_features=640, out_features=257, bias=True)\n",
       "        (ne): Linear(in_features=640, out_features=257, bias=True)\n",
       "        (or): Linear(in_features=640, out_features=257, bias=True)\n",
       "        (pa): Linear(in_features=640, out_features=257, bias=True)\n",
       "        (sa): Linear(in_features=640, out_features=257, bias=True)\n",
       "        (sat): Linear(in_features=640, out_features=257, bias=True)\n",
       "        (sd): Linear(in_features=640, out_features=257, bias=True)\n",
       "        (ta): Linear(in_features=640, out_features=257, bias=True)\n",
       "        (te): Linear(in_features=640, out_features=257, bias=True)\n",
       "        (ur): Linear(in_features=640, out_features=257, bias=True)\n",
       "      )\n",
       "    )\n",
       "    (_loss): RNNTLoss(\n",
       "      (_loss): RNNTLossNumba()\n",
       "    )\n",
       "    (_wer): WER()\n",
       "  )\n",
       "  (loss): RNNTLoss(\n",
       "    (_loss): RNNTLossNumba()\n",
       "  )\n",
       "  (spec_augmentation): SpectrogramAugmentation(\n",
       "    (spec_augment): SpecAugment()\n",
       "  )\n",
       "  (wer): WER()\n",
       "  (ctc_decoder): ConvASRDecoder(\n",
       "    (decoder_layers): Sequential(\n",
       "      (0): Conv1d(512, 5633, kernel_size=(1,), stride=(1,))\n",
       "    )\n",
       "  )\n",
       "  (ctc_loss): CTCLoss()\n",
       "  (ctc_wer): WER()\n",
       ")"
      ]
     },
     "execution_count": 18,
     "metadata": {},
     "output_type": "execute_result"
    }
   ],
   "source": [
    "model"
   ]
  }
 ],
 "metadata": {
  "accelerator": "GPU",
  "colab": {
   "gpuType": "T4",
   "provenance": []
  },
  "kernelspec": {
   "display_name": "indiaai",
   "language": "python",
   "name": "python3"
  },
  "language_info": {
   "codemirror_mode": {
    "name": "ipython",
    "version": 3
   },
   "file_extension": ".py",
   "mimetype": "text/x-python",
   "name": "python",
   "nbconvert_exporter": "python",
   "pygments_lexer": "ipython3",
   "version": "3.10.16"
  },
  "widgets": {
   "application/vnd.jupyter.widget-state+json": {
    "213843abcfc34de0a259ecb50debaa8d": {
     "model_module": "@jupyter-widgets/controls",
     "model_module_version": "1.5.0",
     "model_name": "HTMLModel",
     "state": {
      "_dom_classes": [],
      "_model_module": "@jupyter-widgets/controls",
      "_model_module_version": "1.5.0",
      "_model_name": "HTMLModel",
      "_view_count": null,
      "_view_module": "@jupyter-widgets/controls",
      "_view_module_version": "1.5.0",
      "_view_name": "HTMLView",
      "description": "",
      "description_tooltip": null,
      "layout": "IPY_MODEL_ed33f6d4ca124cba8a0eda20e9f1b952",
      "placeholder": "​",
      "style": "IPY_MODEL_4e3a4d93b7354276b24db9ce9404f491",
      "value": "(…)cconformer_stt_ta_hybrid_rnnt_large.nemo: 100%"
     }
    },
    "4e3a4d93b7354276b24db9ce9404f491": {
     "model_module": "@jupyter-widgets/controls",
     "model_module_version": "1.5.0",
     "model_name": "DescriptionStyleModel",
     "state": {
      "_model_module": "@jupyter-widgets/controls",
      "_model_module_version": "1.5.0",
      "_model_name": "DescriptionStyleModel",
      "_view_count": null,
      "_view_module": "@jupyter-widgets/base",
      "_view_module_version": "1.2.0",
      "_view_name": "StyleView",
      "description_width": ""
     }
    },
    "56089e67a33642538e8045d5bbfdbbed": {
     "model_module": "@jupyter-widgets/base",
     "model_module_version": "1.2.0",
     "model_name": "LayoutModel",
     "state": {
      "_model_module": "@jupyter-widgets/base",
      "_model_module_version": "1.2.0",
      "_model_name": "LayoutModel",
      "_view_count": null,
      "_view_module": "@jupyter-widgets/base",
      "_view_module_version": "1.2.0",
      "_view_name": "LayoutView",
      "align_content": null,
      "align_items": null,
      "align_self": null,
      "border": null,
      "bottom": null,
      "display": null,
      "flex": null,
      "flex_flow": null,
      "grid_area": null,
      "grid_auto_columns": null,
      "grid_auto_flow": null,
      "grid_auto_rows": null,
      "grid_column": null,
      "grid_gap": null,
      "grid_row": null,
      "grid_template_areas": null,
      "grid_template_columns": null,
      "grid_template_rows": null,
      "height": null,
      "justify_content": null,
      "justify_items": null,
      "left": null,
      "margin": null,
      "max_height": null,
      "max_width": null,
      "min_height": null,
      "min_width": null,
      "object_fit": null,
      "object_position": null,
      "order": null,
      "overflow": null,
      "overflow_x": null,
      "overflow_y": null,
      "padding": null,
      "right": null,
      "top": null,
      "visibility": null,
      "width": null
     }
    },
    "568d277ce4a94339af5094351c336800": {
     "model_module": "@jupyter-widgets/controls",
     "model_module_version": "1.5.0",
     "model_name": "HBoxModel",
     "state": {
      "_dom_classes": [],
      "_model_module": "@jupyter-widgets/controls",
      "_model_module_version": "1.5.0",
      "_model_name": "HBoxModel",
      "_view_count": null,
      "_view_module": "@jupyter-widgets/controls",
      "_view_module_version": "1.5.0",
      "_view_name": "HBoxView",
      "box_style": "",
      "children": [
       "IPY_MODEL_213843abcfc34de0a259ecb50debaa8d",
       "IPY_MODEL_89269790220449acbabad5125cbe2c74",
       "IPY_MODEL_b8300e5159e64157bcd9aa7b57f97702"
      ],
      "layout": "IPY_MODEL_56089e67a33642538e8045d5bbfdbbed"
     }
    },
    "66afe24be3e444948fa573a05683e803": {
     "model_module": "@jupyter-widgets/base",
     "model_module_version": "1.2.0",
     "model_name": "LayoutModel",
     "state": {
      "_model_module": "@jupyter-widgets/base",
      "_model_module_version": "1.2.0",
      "_model_name": "LayoutModel",
      "_view_count": null,
      "_view_module": "@jupyter-widgets/base",
      "_view_module_version": "1.2.0",
      "_view_name": "LayoutView",
      "align_content": null,
      "align_items": null,
      "align_self": null,
      "border": null,
      "bottom": null,
      "display": null,
      "flex": null,
      "flex_flow": null,
      "grid_area": null,
      "grid_auto_columns": null,
      "grid_auto_flow": null,
      "grid_auto_rows": null,
      "grid_column": null,
      "grid_gap": null,
      "grid_row": null,
      "grid_template_areas": null,
      "grid_template_columns": null,
      "grid_template_rows": null,
      "height": null,
      "justify_content": null,
      "justify_items": null,
      "left": null,
      "margin": null,
      "max_height": null,
      "max_width": null,
      "min_height": null,
      "min_width": null,
      "object_fit": null,
      "object_position": null,
      "order": null,
      "overflow": null,
      "overflow_x": null,
      "overflow_y": null,
      "padding": null,
      "right": null,
      "top": null,
      "visibility": null,
      "width": null
     }
    },
    "7a24f876d052480283bd93e25e79335b": {
     "model_module": "@jupyter-widgets/base",
     "model_module_version": "1.2.0",
     "model_name": "LayoutModel",
     "state": {
      "_model_module": "@jupyter-widgets/base",
      "_model_module_version": "1.2.0",
      "_model_name": "LayoutModel",
      "_view_count": null,
      "_view_module": "@jupyter-widgets/base",
      "_view_module_version": "1.2.0",
      "_view_name": "LayoutView",
      "align_content": null,
      "align_items": null,
      "align_self": null,
      "border": null,
      "bottom": null,
      "display": null,
      "flex": null,
      "flex_flow": null,
      "grid_area": null,
      "grid_auto_columns": null,
      "grid_auto_flow": null,
      "grid_auto_rows": null,
      "grid_column": null,
      "grid_gap": null,
      "grid_row": null,
      "grid_template_areas": null,
      "grid_template_columns": null,
      "grid_template_rows": null,
      "height": null,
      "justify_content": null,
      "justify_items": null,
      "left": null,
      "margin": null,
      "max_height": null,
      "max_width": null,
      "min_height": null,
      "min_width": null,
      "object_fit": null,
      "object_position": null,
      "order": null,
      "overflow": null,
      "overflow_x": null,
      "overflow_y": null,
      "padding": null,
      "right": null,
      "top": null,
      "visibility": null,
      "width": null
     }
    },
    "89269790220449acbabad5125cbe2c74": {
     "model_module": "@jupyter-widgets/controls",
     "model_module_version": "1.5.0",
     "model_name": "FloatProgressModel",
     "state": {
      "_dom_classes": [],
      "_model_module": "@jupyter-widgets/controls",
      "_model_module_version": "1.5.0",
      "_model_name": "FloatProgressModel",
      "_view_count": null,
      "_view_module": "@jupyter-widgets/controls",
      "_view_module_version": "1.5.0",
      "_view_name": "ProgressView",
      "bar_style": "success",
      "description": "",
      "description_tooltip": null,
      "layout": "IPY_MODEL_7a24f876d052480283bd93e25e79335b",
      "max": 523192320,
      "min": 0,
      "orientation": "horizontal",
      "style": "IPY_MODEL_d604d6dbad6c4056890cce51d755334b",
      "value": 523192320
     }
    },
    "b8300e5159e64157bcd9aa7b57f97702": {
     "model_module": "@jupyter-widgets/controls",
     "model_module_version": "1.5.0",
     "model_name": "HTMLModel",
     "state": {
      "_dom_classes": [],
      "_model_module": "@jupyter-widgets/controls",
      "_model_module_version": "1.5.0",
      "_model_name": "HTMLModel",
      "_view_count": null,
      "_view_module": "@jupyter-widgets/controls",
      "_view_module_version": "1.5.0",
      "_view_name": "HTMLView",
      "description": "",
      "description_tooltip": null,
      "layout": "IPY_MODEL_66afe24be3e444948fa573a05683e803",
      "placeholder": "​",
      "style": "IPY_MODEL_c0ff584b52b545b58c18125ca3822d77",
      "value": " 523M/523M [00:11&lt;00:00, 50.0MB/s]"
     }
    },
    "c0ff584b52b545b58c18125ca3822d77": {
     "model_module": "@jupyter-widgets/controls",
     "model_module_version": "1.5.0",
     "model_name": "DescriptionStyleModel",
     "state": {
      "_model_module": "@jupyter-widgets/controls",
      "_model_module_version": "1.5.0",
      "_model_name": "DescriptionStyleModel",
      "_view_count": null,
      "_view_module": "@jupyter-widgets/base",
      "_view_module_version": "1.2.0",
      "_view_name": "StyleView",
      "description_width": ""
     }
    },
    "d604d6dbad6c4056890cce51d755334b": {
     "model_module": "@jupyter-widgets/controls",
     "model_module_version": "1.5.0",
     "model_name": "ProgressStyleModel",
     "state": {
      "_model_module": "@jupyter-widgets/controls",
      "_model_module_version": "1.5.0",
      "_model_name": "ProgressStyleModel",
      "_view_count": null,
      "_view_module": "@jupyter-widgets/base",
      "_view_module_version": "1.2.0",
      "_view_name": "StyleView",
      "bar_color": null,
      "description_width": ""
     }
    },
    "ed33f6d4ca124cba8a0eda20e9f1b952": {
     "model_module": "@jupyter-widgets/base",
     "model_module_version": "1.2.0",
     "model_name": "LayoutModel",
     "state": {
      "_model_module": "@jupyter-widgets/base",
      "_model_module_version": "1.2.0",
      "_model_name": "LayoutModel",
      "_view_count": null,
      "_view_module": "@jupyter-widgets/base",
      "_view_module_version": "1.2.0",
      "_view_name": "LayoutView",
      "align_content": null,
      "align_items": null,
      "align_self": null,
      "border": null,
      "bottom": null,
      "display": null,
      "flex": null,
      "flex_flow": null,
      "grid_area": null,
      "grid_auto_columns": null,
      "grid_auto_flow": null,
      "grid_auto_rows": null,
      "grid_column": null,
      "grid_gap": null,
      "grid_row": null,
      "grid_template_areas": null,
      "grid_template_columns": null,
      "grid_template_rows": null,
      "height": null,
      "justify_content": null,
      "justify_items": null,
      "left": null,
      "margin": null,
      "max_height": null,
      "max_width": null,
      "min_height": null,
      "min_width": null,
      "object_fit": null,
      "object_position": null,
      "order": null,
      "overflow": null,
      "overflow_x": null,
      "overflow_y": null,
      "padding": null,
      "right": null,
      "top": null,
      "visibility": null,
      "width": null
     }
    }
   }
  }
 },
 "nbformat": 4,
 "nbformat_minor": 0
}
